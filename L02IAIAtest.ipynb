{
  "cells": [
    {
      "cell_type": "markdown",
      "id": "38830dab",
      "metadata": {
        "id": "38830dab"
      },
      "source": [
        "# Forward"
      ]
    },
    {
      "cell_type": "code",
      "execution_count": null,
      "id": "30d94ce9-9b30-4047-bfc7-16619caf7dae",
      "metadata": {
        "colab": {
          "base_uri": "https://localhost:8080/"
        },
        "id": "30d94ce9-9b30-4047-bfc7-16619caf7dae",
        "outputId": "dd187f26-823a-467b-cc3c-4ec44fafc6e6"
      },
      "outputs": [
        {
          "output_type": "stream",
          "name": "stdout",
          "text": [
            "Requirement already satisfied: numpy in /usr/local/lib/python3.10/dist-packages (1.23.5)\n"
          ]
        }
      ],
      "source": [
        "!pip install numpy\n",
        "import sys"
      ]
    },
    {
      "cell_type": "code",
      "execution_count": null,
      "id": "KrSnImR5mnj5",
      "metadata": {
        "id": "KrSnImR5mnj5"
      },
      "outputs": [],
      "source": [
        "from numpy import random\n",
        "import numpy as np\n",
        "from IPython.core.interactiveshell import InteractiveShell\n",
        "InteractiveShell.ast_node_interactivity = \"all\""
      ]
    },
    {
      "cell_type": "code",
      "execution_count": null,
      "id": "cTR9iyd4o61A",
      "metadata": {
        "id": "cTR9iyd4o61A"
      },
      "outputs": [],
      "source": [
        "def initialize_parameters(layers):\n",
        "  parameters = {}\n",
        "  for i in range(len(layers)):\n",
        "    if i > 0:\n",
        "      parameters[\"W\" + str(i)] = np.random.randn(layers[i],layers[i-1]) * 0.01\n",
        "      parameters[\"b\" + str(i)] = np.zeros((layers[i],1))\n",
        "  return parameters"
      ]
    },
    {
      "cell_type": "code",
      "execution_count": null,
      "id": "de2db6b1",
      "metadata": {
        "colab": {
          "base_uri": "https://localhost:8080/",
          "height": 282
        },
        "id": "de2db6b1",
        "outputId": "35f03b45-8f2b-467b-94b2-8ce7dcb73b1f"
      },
      "outputs": [
        {
          "output_type": "execute_result",
          "data": {
            "text/plain": [
              "'Testing initialize_parameters (DeepLearningSpecializationCoursera)'"
            ],
            "application/vnd.google.colaboratory.intrinsic+json": {
              "type": "string"
            }
          },
          "metadata": {},
          "execution_count": 4
        },
        {
          "output_type": "execute_result",
          "data": {
            "text/plain": [
              "'Test # 1'"
            ],
            "application/vnd.google.colaboratory.intrinsic+json": {
              "type": "string"
            }
          },
          "metadata": {},
          "execution_count": 4
        },
        {
          "output_type": "execute_result",
          "data": {
            "text/plain": [
              "'W1 b1'"
            ],
            "application/vnd.google.colaboratory.intrinsic+json": {
              "type": "string"
            }
          },
          "metadata": {},
          "execution_count": 4
        },
        {
          "output_type": "execute_result",
          "data": {
            "text/plain": [
              "array([[ 0.01624345, -0.00611756, -0.00528172],\n",
              "       [-0.01072969,  0.00865408, -0.02301539]])"
            ]
          },
          "metadata": {},
          "execution_count": 4
        },
        {
          "output_type": "execute_result",
          "data": {
            "text/plain": [
              "array([[0.],\n",
              "       [0.]])"
            ]
          },
          "metadata": {},
          "execution_count": 4
        },
        {
          "output_type": "execute_result",
          "data": {
            "text/plain": [
              "'W2 b2'"
            ],
            "application/vnd.google.colaboratory.intrinsic+json": {
              "type": "string"
            }
          },
          "metadata": {},
          "execution_count": 4
        },
        {
          "output_type": "execute_result",
          "data": {
            "text/plain": [
              "array([[ 0.01744812, -0.00761207]])"
            ]
          },
          "metadata": {},
          "execution_count": 4
        },
        {
          "output_type": "execute_result",
          "data": {
            "text/plain": [
              "array([[0.]])"
            ]
          },
          "metadata": {},
          "execution_count": 4
        },
        {
          "output_type": "execute_result",
          "data": {
            "text/plain": [
              "'Test # 2'"
            ],
            "application/vnd.google.colaboratory.intrinsic+json": {
              "type": "string"
            }
          },
          "metadata": {},
          "execution_count": 4
        },
        {
          "output_type": "execute_result",
          "data": {
            "text/plain": [
              "'W1 b1'"
            ],
            "application/vnd.google.colaboratory.intrinsic+json": {
              "type": "string"
            }
          },
          "metadata": {},
          "execution_count": 4
        },
        {
          "output_type": "execute_result",
          "data": {
            "text/plain": [
              "array([[ 0.01788628,  0.0043651 ,  0.00096497, -0.01863493, -0.00277388],\n",
              "       [-0.00354759, -0.00082741, -0.00627001, -0.00043818, -0.00477218],\n",
              "       [-0.01313865,  0.00884622,  0.00881318,  0.01709573,  0.00050034],\n",
              "       [-0.00404677, -0.0054536 , -0.01546477,  0.00982367, -0.01101068]])"
            ]
          },
          "metadata": {},
          "execution_count": 4
        },
        {
          "output_type": "execute_result",
          "data": {
            "text/plain": [
              "array([[0.],\n",
              "       [0.],\n",
              "       [0.],\n",
              "       [0.]])"
            ]
          },
          "metadata": {},
          "execution_count": 4
        },
        {
          "output_type": "execute_result",
          "data": {
            "text/plain": [
              "'W2 b2'"
            ],
            "application/vnd.google.colaboratory.intrinsic+json": {
              "type": "string"
            }
          },
          "metadata": {},
          "execution_count": 4
        },
        {
          "output_type": "execute_result",
          "data": {
            "text/plain": [
              "array([[-0.01185047, -0.0020565 ,  0.01486148,  0.00236716],\n",
              "       [-0.01023785, -0.00712993,  0.00625245, -0.00160513],\n",
              "       [-0.00768836, -0.00230031,  0.00745056,  0.01976111]])"
            ]
          },
          "metadata": {},
          "execution_count": 4
        },
        {
          "output_type": "execute_result",
          "data": {
            "text/plain": [
              "array([[0.],\n",
              "       [0.],\n",
              "       [0.]])"
            ]
          },
          "metadata": {},
          "execution_count": 4
        }
      ],
      "source": [
        "'Testing initialize_parameters (DeepLearningSpecializationCoursera)'\n",
        "'Test # 1'\n",
        "np.random.seed(1)\n",
        "parameters = initialize_parameters([3,2,1])\n",
        "'W1 b1'\n",
        "parameters['W1']\n",
        "assert parameters['W1'].shape==(2,3), \"W1. Wrong size\"\n",
        "assert np.all(np.isclose(parameters['W1'],\n",
        "                         [[ 0.01624345, -0.00611756, -0.00528172], [-0.01072969 ,0.00865408, -0.02301539]])), \"W1. Wrong values\"\n",
        "\n",
        "parameters['b1']\n",
        "assert parameters['b1'].shape==(2,1), \"b1. Wrong size\"\n",
        "assert np.all(np.isclose(parameters['b1'], [[ 0.], [ 0.]])), \"b1. Wrong values\"\n",
        "'W2 b2'\n",
        "parameters['W2']\n",
        "assert parameters['W2'].shape==(1,2), \"W2. Wrong size\"\n",
        "assert np.all(np.isclose(parameters['W2'], [[ 0.01744812, -0.00761207]])), \"W2. Wrong values\"\n",
        "parameters['b2']\n",
        "assert parameters['b2'].shape==(1,1), \"b2. Wrong size\"\n",
        "\n",
        "assert np.all(np.isclose(parameters['b2'], [[ 0.]])), \"b2. Wrong values\"\n",
        "'Test # 2'\n",
        "np.random.seed(3)\n",
        "parameters = initialize_parameters([5,4,3])\n",
        "'W1 b1'\n",
        "parameters['W1']\n",
        "assert parameters['W1'].shape==(4,5), \"W1. Wrong size\"\n",
        "assert np.all(np.isclose(parameters['W1'],\n",
        "                        [[ 0.01788628,  0.0043651,   0.00096497, -0.01863493, -0.00277388],\n",
        " [-0.00354759, -0.00082741, -0.00627001, -0.00043818, -0.00477218],\n",
        " [-0.01313865,  0.00884622,  0.00881318,  0.01709573,  0.00050034],\n",
        " [-0.00404677, -0.0054536,  -0.01546477,  0.00982367, -0.01101068]])), \"W1. Wrong values\"\n",
        "\n",
        "parameters['b1']\n",
        "assert parameters['b1'].shape==(4,1), \"b1. Wrong size\"\n",
        "assert np.all(np.isclose(parameters['b1'], [[ 0.], [ 0.], [ 0.], [ 0.]])), \"b1. Wrong values\"\n",
        "'W2 b2'\n",
        "parameters['W2']\n",
        "assert parameters['W2'].shape==(3,4), \"W2. Wrong size\"\n",
        "assert np.all(np.isclose(parameters['W2'],\n",
        "                        [[-0.01185047, -0.0020565,   0.01486148,  0.00236716],\n",
        " [-0.01023785, -0.00712993,  0.00625245, -0.00160513],\n",
        " [-0.00768836, -0.00230031,  0.00745056,  0.01976111]])), \"W2. Wrong values\"\n",
        "\n",
        "parameters['b2']\n",
        "assert parameters['b2'].shape==(3,1), \"b2. Wrong size\"\n",
        "assert np.all(np.isclose(parameters['b2'], [[ 0.], [ 0.], [ 0.]])), \"b2. Wrong values\""
      ]
    },
    {
      "cell_type": "code",
      "execution_count": null,
      "id": "Zadjy9B5yq02",
      "metadata": {
        "id": "Zadjy9B5yq02"
      },
      "outputs": [],
      "source": [
        "def forward_step(A_1,W, b):\n",
        "  z= W@A_1+b\n",
        "  A = 1/(1+np.exp(-z))\n",
        "  return A, (A_1, W, A)"
      ]
    },
    {
      "cell_type": "code",
      "execution_count": null,
      "id": "c57ba50a",
      "metadata": {
        "colab": {
          "base_uri": "https://localhost:8080/",
          "height": 71
        },
        "id": "c57ba50a",
        "outputId": "f63770b4-b13a-45d5-aaaf-5ad07c36c425"
      },
      "outputs": [
        {
          "output_type": "execute_result",
          "data": {
            "text/plain": [
              "'Testing forward_step (DeepLearningSpecializationCoursera)'"
            ],
            "application/vnd.google.colaboratory.intrinsic+json": {
              "type": "string"
            }
          },
          "metadata": {},
          "execution_count": 6
        },
        {
          "output_type": "execute_result",
          "data": {
            "text/plain": [
              "'Test # 1: Sigmoid'"
            ],
            "application/vnd.google.colaboratory.intrinsic+json": {
              "type": "string"
            }
          },
          "metadata": {},
          "execution_count": 6
        },
        {
          "output_type": "execute_result",
          "data": {
            "text/plain": [
              "'A'"
            ],
            "application/vnd.google.colaboratory.intrinsic+json": {
              "type": "string"
            }
          },
          "metadata": {},
          "execution_count": 6
        },
        {
          "output_type": "execute_result",
          "data": {
            "text/plain": [
              "array([[0.96890023, 0.11013289]])"
            ]
          },
          "metadata": {},
          "execution_count": 6
        },
        {
          "output_type": "execute_result",
          "data": {
            "text/plain": [
              "'Test # 2: Sigmoid'"
            ],
            "application/vnd.google.colaboratory.intrinsic+json": {
              "type": "string"
            }
          },
          "metadata": {},
          "execution_count": 6
        },
        {
          "output_type": "execute_result",
          "data": {
            "text/plain": [
              "'A'"
            ],
            "application/vnd.google.colaboratory.intrinsic+json": {
              "type": "string"
            }
          },
          "metadata": {},
          "execution_count": 6
        },
        {
          "output_type": "execute_result",
          "data": {
            "text/plain": [
              "array([[0.41196173, 0.288529  ]])"
            ]
          },
          "metadata": {},
          "execution_count": 6
        }
      ],
      "source": [
        "'Testing forward_step (DeepLearningSpecializationCoursera)'\n",
        "np.random.seed(2)\n",
        "'Test # 1: Sigmoid'\n",
        "A_1 = np.random.randn(3,2)\n",
        "W = np.random.randn(1,3)\n",
        "b = np.random.randn(1,1)\n",
        "A, cache = forward_step(A_1, W, b)\n",
        "'A'\n",
        "A\n",
        "assert A.shape==(1,2), \"A. Wrong size\"\n",
        "assert np.all(np.isclose(A, [[ 0.96890023, 0.11013289]])), \"A. Wrong values\"\n",
        "'Test # 2: Sigmoid'\n",
        "A_1 = np.random.randn(3,2)\n",
        "W = np.random.randn(1,3)\n",
        "b = np.random.randn(1,1)\n",
        "A, cache = forward_step(A_1, W, b)\n",
        "'A'\n",
        "A\n",
        "assert A.shape==(1,2), \"A. Wrong size\"\n",
        "assert np.all(np.isclose(A, [[0.41196173, 0.288529  ]])), \"A. Wrong values\""
      ]
    },
    {
      "cell_type": "code",
      "execution_count": null,
      "id": "wJyqOgUH34db",
      "metadata": {
        "id": "wJyqOgUH34db"
      },
      "outputs": [],
      "source": [
        "def forward(X,parameters):\n",
        "  A = X\n",
        "  caches = []\n",
        "  for i in range(len(parameters)//2):\n",
        "    A,cacheCapa = forward_step(A,parameters[\"W\" + str(i+1)], parameters[\"b\" + str(i+1)])\n",
        "    caches.append(cacheCapa)\n",
        "  return A, caches"
      ]
    },
    {
      "cell_type": "code",
      "execution_count": null,
      "id": "e37dad40",
      "metadata": {
        "colab": {
          "base_uri": "https://localhost:8080/",
          "height": 54
        },
        "id": "e37dad40",
        "outputId": "4abfd32f-11b7-4b7c-a3ab-99b5553aae21"
      },
      "outputs": [
        {
          "output_type": "execute_result",
          "data": {
            "text/plain": [
              "'Testing forward (DeepLearningSpecializationCoursera)'"
            ],
            "application/vnd.google.colaboratory.intrinsic+json": {
              "type": "string"
            }
          },
          "metadata": {},
          "execution_count": 8
        },
        {
          "output_type": "execute_result",
          "data": {
            "text/plain": [
              "'AL'"
            ],
            "application/vnd.google.colaboratory.intrinsic+json": {
              "type": "string"
            }
          },
          "metadata": {},
          "execution_count": 8
        },
        {
          "output_type": "execute_result",
          "data": {
            "text/plain": [
              "array([[0.55865298, 0.52006807, 0.51071853, 0.53912084]])"
            ]
          },
          "metadata": {},
          "execution_count": 8
        },
        {
          "output_type": "execute_result",
          "data": {
            "text/plain": [
              "'Caches'"
            ],
            "application/vnd.google.colaboratory.intrinsic+json": {
              "type": "string"
            }
          },
          "metadata": {},
          "execution_count": 8
        },
        {
          "output_type": "execute_result",
          "data": {
            "text/plain": [
              "3"
            ]
          },
          "metadata": {},
          "execution_count": 8
        }
      ],
      "source": [
        "'Testing forward (DeepLearningSpecializationCoursera)'\n",
        "np.random.seed(6)\n",
        "X = np.random.randn(5,4)\n",
        "parameters={}\n",
        "parameters['W1'] = np.random.randn(4,5)\n",
        "parameters['b1'] = np.random.randn(4,1)\n",
        "parameters['W2'] = np.random.randn(3,4)\n",
        "parameters['b2'] = np.random.randn(3,1)\n",
        "parameters['W3'] = np.random.randn(1,3)\n",
        "parameters['b3'] = np.random.randn(1,1)\n",
        "AL,caches=forward(X, parameters)\n",
        "'AL'\n",
        "AL\n",
        "assert AL.shape==(1,4), \"AL. Wrong size\"\n",
        "assert np.all(np.isclose(AL,[[0.55865298, 0.52006807, 0.51071853, 0.53912084]])), \"AL. Wrong values\"\n",
        "'Caches'\n",
        "len(caches)\n",
        "assert len(caches)==3, \"Caches. Wrong size\""
      ]
    },
    {
      "cell_type": "code",
      "execution_count": null,
      "id": "GB80P7_i7Q8X",
      "metadata": {
        "id": "GB80P7_i7Q8X"
      },
      "outputs": [],
      "source": [
        "def predict(X,parameters):\n",
        "  A = X\n",
        "  for i in range(len(parameters)//2):\n",
        "    A,cacheCapa = forward_step(A,parameters[\"W\" + str(i+1)], parameters[\"b\" + str(i+1)])\n",
        "  return A"
      ]
    },
    {
      "cell_type": "code",
      "execution_count": null,
      "id": "7df2b9b6",
      "metadata": {
        "colab": {
          "base_uri": "https://localhost:8080/",
          "height": 53
        },
        "id": "7df2b9b6",
        "outputId": "83172aff-f476-4b73-9e64-245088600398"
      },
      "outputs": [
        {
          "output_type": "execute_result",
          "data": {
            "text/plain": [
              "'Testing predict (DeepLearningSpecializationCoursera)'"
            ],
            "application/vnd.google.colaboratory.intrinsic+json": {
              "type": "string"
            }
          },
          "metadata": {},
          "execution_count": 10
        },
        {
          "output_type": "execute_result",
          "data": {
            "text/plain": [
              "'Yp'"
            ],
            "application/vnd.google.colaboratory.intrinsic+json": {
              "type": "string"
            }
          },
          "metadata": {},
          "execution_count": 10
        },
        {
          "output_type": "execute_result",
          "data": {
            "text/plain": [
              "array([[0.55865298, 0.52006807, 0.51071853, 0.53912084]])"
            ]
          },
          "metadata": {},
          "execution_count": 10
        }
      ],
      "source": [
        "'Testing predict (DeepLearningSpecializationCoursera)'\n",
        "np.random.seed(6)\n",
        "X = np.random.randn(5,4)\n",
        "parameters={}\n",
        "parameters['W1'] = np.random.randn(4,5)\n",
        "parameters['b1'] = np.random.randn(4,1)\n",
        "parameters['W2'] = np.random.randn(3,4)\n",
        "parameters['b2'] = np.random.randn(3,1)\n",
        "parameters['W3'] = np.random.randn(1,3)\n",
        "parameters['b3'] = np.random.randn(1,1)\n",
        "Yp=predict(X, parameters)\n",
        "'Yp'\n",
        "Yp\n",
        "assert Yp.shape==(1,4), \"Yp. Wrong size\"\n",
        "assert np.all(np.isclose(Yp,[[0.55865298, 0.52006807, 0.51071853, 0.53912084]])), \"Yp. Wrong values\""
      ]
    },
    {
      "cell_type": "code",
      "execution_count": null,
      "id": "z0XBhL1J7OfB",
      "metadata": {
        "id": "z0XBhL1J7OfB"
      },
      "outputs": [],
      "source": [
        "def accuracy(X,Y,parameters):\n",
        "    A = predict(X,parameters)\n",
        "    loss = np.mean(np.where((Y-A)*(Y-A)))\n",
        "    if(loss >= 0.6):\n",
        "      loss = 1\n",
        "    return loss"
      ]
    },
    {
      "cell_type": "code",
      "source": [
        "def accuracy (X, Y, parameters):\n",
        "  AL = predict(X, parameters)\n",
        "  transformacion = np.where(AL <= 0.6,0,1)\n",
        "  accuracy = np.mean(transformacion == Y)\n",
        "  return accuracy"
      ],
      "metadata": {
        "id": "MQgnYCvIgprO"
      },
      "id": "MQgnYCvIgprO",
      "execution_count": null,
      "outputs": []
    },
    {
      "cell_type": "code",
      "execution_count": null,
      "id": "b41f438a",
      "metadata": {
        "id": "b41f438a",
        "outputId": "762987e4-6b8b-4a86-e97b-077bf7f24fcb",
        "colab": {
          "base_uri": "https://localhost:8080/",
          "height": 35
        }
      },
      "outputs": [
        {
          "output_type": "execute_result",
          "data": {
            "text/plain": [
              "'Testing accuracy'"
            ],
            "application/vnd.google.colaboratory.intrinsic+json": {
              "type": "string"
            }
          },
          "metadata": {},
          "execution_count": 8
        },
        {
          "output_type": "execute_result",
          "data": {
            "text/plain": [
              "1.0"
            ]
          },
          "metadata": {},
          "execution_count": 8
        }
      ],
      "source": [
        "'Testing accuracy'\n",
        "np.random.seed(6)\n",
        "X = np.random.randn(5,4)\n",
        "Y = np.zeros(4)\n",
        "parameters={}\n",
        "parameters['W1'] = np.random.randn(4,5)\n",
        "parameters['b1'] = np.random.randn(4,1)\n",
        "parameters['W2'] = np.random.randn(3,4)\n",
        "parameters['b2'] = np.random.randn(3,1)\n",
        "parameters['W3'] = np.random.randn(1,3)\n",
        "parameters['b3'] = np.random.randn(1,1)\n",
        "\n",
        "accuracy (X, Y, parameters)\n",
        "assert accuracy (X, Y, parameters)==1, \"Wrong value\""
      ]
    },
    {
      "cell_type": "markdown",
      "id": "2eabcb53",
      "metadata": {
        "id": "2eabcb53"
      },
      "source": [
        "# Backward"
      ]
    },
    {
      "cell_type": "code",
      "execution_count": null,
      "id": "2b4a147c-8612-42c1-a84f-5781934cc454",
      "metadata": {
        "id": "2b4a147c-8612-42c1-a84f-5781934cc454"
      },
      "outputs": [],
      "source": [
        "def cost(Yp,Y):\n",
        "    return np.mean(-(Y*np.log(Yp + sys.float_info.epsilon) + (1-Y) * np.log(1-Yp+ sys.float_info.epsilon)))"
      ]
    },
    {
      "cell_type": "code",
      "execution_count": null,
      "id": "75fb9a70",
      "metadata": {
        "id": "75fb9a70",
        "outputId": "88fb7957-1d6c-419b-cd28-346b0412d119",
        "colab": {
          "base_uri": "https://localhost:8080/",
          "height": 35
        }
      },
      "outputs": [
        {
          "output_type": "execute_result",
          "data": {
            "text/plain": [
              "'Testing cost (DeepLearningSpecializationCoursera)'"
            ],
            "application/vnd.google.colaboratory.intrinsic+json": {
              "type": "string"
            }
          },
          "metadata": {},
          "execution_count": 9
        },
        {
          "output_type": "execute_result",
          "data": {
            "text/plain": [
              "0.27977656357934194"
            ]
          },
          "metadata": {},
          "execution_count": 9
        }
      ],
      "source": [
        "'Testing cost (DeepLearningSpecializationCoursera)'\n",
        "Y = np.array([[1, 1, 0]])\n",
        "Yp = np.array([[.8,.9,0.4]])\n",
        "cost(Yp,Y)\n",
        "assert np.isclose(cost(Yp,Y),0.2797765635793422), \"BinaryCrossEntropy. Wrong values\""
      ]
    },
    {
      "cell_type": "code",
      "execution_count": null,
      "id": "6f66da1d-3775-4e37-9327-29a6f13c98f1",
      "metadata": {
        "id": "6f66da1d-3775-4e37-9327-29a6f13c98f1"
      },
      "outputs": [],
      "source": [
        "def backward_step(dA, cache):\n",
        "    A_1,W, A = cache\n",
        "    dZ = dA * A * (1 - A)\n",
        "    m = A_1.shape[1]\n",
        "    dA_1 = W.T@dZ\n",
        "    dW = (1/m) * (dZ@A_1.T)\n",
        "    db = (1/m) * np.sum(dZ, axis=1, keepdims=True)\n",
        "    return dA_1, dW, db\n",
        "\n"
      ]
    },
    {
      "cell_type": "code",
      "execution_count": null,
      "id": "9d383ea2",
      "metadata": {
        "id": "9d383ea2",
        "outputId": "6e2f3cdd-f6c0-472c-a02d-d8617e597a5b",
        "colab": {
          "base_uri": "https://localhost:8080/",
          "height": 106
        }
      },
      "outputs": [
        {
          "output_type": "execute_result",
          "data": {
            "text/plain": [
              "'Testing backward_step (DeepLearningSpecializationCoursera)'"
            ],
            "application/vnd.google.colaboratory.intrinsic+json": {
              "type": "string"
            }
          },
          "metadata": {},
          "execution_count": 16
        },
        {
          "output_type": "execute_result",
          "data": {
            "text/plain": [
              "'Test #1: Sigmoid dA_1, dW, db'"
            ],
            "application/vnd.google.colaboratory.intrinsic+json": {
              "type": "string"
            }
          },
          "metadata": {},
          "execution_count": 16
        },
        {
          "output_type": "execute_result",
          "data": {
            "text/plain": [
              "array([[ 0.11017994,  0.01105339],\n",
              "       [ 0.09466817,  0.00949723],\n",
              "       [-0.05743092, -0.00576154]])"
            ]
          },
          "metadata": {},
          "execution_count": 16
        },
        {
          "output_type": "execute_result",
          "data": {
            "text/plain": [
              "array([[ 0.10266786,  0.09778551, -0.01968084]])"
            ]
          },
          "metadata": {},
          "execution_count": 16
        },
        {
          "output_type": "execute_result",
          "data": {
            "text/plain": [
              "array([[-0.05729622]])"
            ]
          },
          "metadata": {},
          "execution_count": 16
        }
      ],
      "source": [
        "'Testing backward_step (DeepLearningSpecializationCoursera)'\n",
        "np.random.seed(2)\n",
        "'Test #1: Sigmoid dA_1, dW, db'\n",
        "dA = np.random.randn(1,2)\n",
        "A_1 = np.random.randn(3,2)\n",
        "W = np.random.randn(1,3)\n",
        "b = np.random.randn(1,1)\n",
        "Z = np.random.randn(1,2)\n",
        "A = (1/(1+np.exp(-Z)))\n",
        "\n",
        "cache = (A_1,W, A)\n",
        "dA_1, dW, db = backward_step(dA, cache)\n",
        "dA_1\n",
        "assert dA_1.shape==(3,2), \"A. Wrong size\"\n",
        "assert np.all(np.isclose(dA_1, [[ 0.11017994,  0.01105339],\n",
        "                             [ 0.09466817,  0.00949723],\n",
        "                             [-0.05743092, -0.00576154]])), \"dA_1. Wrong values\"\n",
        "dW\n",
        "assert dW.shape==(1,3), \"dW. Wrong size\"\n",
        "assert np.all(np.isclose(dW, [[ 0.10266786,  0.09778551, -0.01968084]])), \"dW. Wrong values\"\n",
        "db\n",
        "assert db.shape==(1,1), \"db. Wrong size\"\n",
        "assert np.all(np.isclose(db, [[-0.05729622]])), \"db. Wrong values\"\n"
      ]
    },
    {
      "cell_type": "code",
      "execution_count": null,
      "id": "01d49763-2c86-45ff-b174-53e37585694d",
      "metadata": {
        "id": "01d49763-2c86-45ff-b174-53e37585694d"
      },
      "outputs": [],
      "source": [
        "def backward(AL, Y, caches):\n",
        "    numero_capas = len(caches)\n",
        "    grads = {}\n",
        "    currentCache = caches[numero_capas - 1]\n",
        "    dAL = -(np.divide(Y, AL + 1e-12) - np.divide(1 - Y, 1 - AL +  1e-12))\n",
        "    dA_1,grads[\"dW\" + str(numero_capas)], grads[\"db\" + str(numero_capas)] = backward_step(dAL,currentCache)\n",
        "    for l in reversed(range(numero_capas - 1)):\n",
        "        currentCache = caches[l]\n",
        "        dA_1,grads[\"dW\" + str(l+1)], grads[\"db\" + str(l+1)] = backward_step(dA_1,currentCache)\n",
        "    return grads\n",
        "\n",
        "\n"
      ]
    },
    {
      "cell_type": "code",
      "execution_count": null,
      "id": "1d737872",
      "metadata": {
        "id": "1d737872",
        "outputId": "90c90ec4-91da-45f7-fdd7-5191f9101014",
        "colab": {
          "base_uri": "https://localhost:8080/",
          "height": 105
        }
      },
      "outputs": [
        {
          "output_type": "execute_result",
          "data": {
            "text/plain": [
              "'Testing backward'"
            ],
            "application/vnd.google.colaboratory.intrinsic+json": {
              "type": "string"
            }
          },
          "metadata": {},
          "execution_count": 18
        },
        {
          "output_type": "execute_result",
          "data": {
            "text/plain": [
              "array([[-0.00100175, -0.09968066, -0.03909226, -0.02330927],\n",
              "       [ 0.96094749, -0.67576359, -0.01117241,  0.04711791],\n",
              "       [ 0.02755101,  0.0423293 ,  0.02371575,  0.01564826]])"
            ]
          },
          "metadata": {},
          "execution_count": 18
        },
        {
          "output_type": "execute_result",
          "data": {
            "text/plain": [
              "array([[ 0.35434572],\n",
              "       [ 2.53806384],\n",
              "       [-0.14666465]])"
            ]
          },
          "metadata": {},
          "execution_count": 18
        }
      ],
      "source": [
        "'Testing backward'\n",
        "np.random.seed(3)\n",
        "AL = np.random.randn(1, 2)\n",
        "Y = np.array([[1, 0]])\n",
        "\n",
        "A_1 = np.random.randn(4,2)\n",
        "W1 = np.random.randn(3,4)\n",
        "A1 = np.random.randn(3,2)\n",
        "cache_1= (A_1, W1, A1)\n",
        "\n",
        "A_2 = np.random.randn(3,2)\n",
        "W2 = np.random.randn(1,3)\n",
        "A2 = np.random.randn(1,2)\n",
        "cache_2 = (A_2, W2, A2)\n",
        "\n",
        "grads=backward(AL, Y, [cache_1, cache_2])\n",
        "\n",
        "grads['dW1']\n",
        "assert grads['dW1'].shape==(3,4), \"dW1. Wrong size\"\n",
        "assert np.all(np.isclose(grads['dW1'], [[-0.00100175, -0.09968066, -0.03909226, -0.02330927],\n",
        "                                       [ 0.96094749, -0.67576359, -0.01117241,  0.04711791],\n",
        "                                       [ 0.02755101,  0.0423293 ,  0.02371575,  0.01564826]])), \"dW1. Wrong values\"\n",
        "grads['db1']\n",
        "assert grads['db1'].shape==(3,1), \"db1. Wrong size\"\n",
        "assert np.all(np.isclose(grads['db1'],  [[ 0.35434572],[ 2.53806384],[-0.14666465]])), \"db1. Wrong values\""
      ]
    },
    {
      "cell_type": "code",
      "execution_count": null,
      "id": "030e26ed-0099-4539-b692-df122bf8fd24",
      "metadata": {
        "id": "030e26ed-0099-4539-b692-df122bf8fd24"
      },
      "outputs": [],
      "source": [
        "def update_parameters(parameters,grads, learning_rate):\n",
        "    L= len(parameters)//2\n",
        "    for l in range(L):\n",
        "        parameters['W'+str(l+1)]= parameters['W'+str(l+1)]-learning_rate*grads['dW'+str(l+1)]\n",
        "        parameters['b'+str(l+1)]= parameters['b'+str(l+1)]-learning_rate*grads['db'+str(l+1)]\n",
        "    return parameters"
      ]
    },
    {
      "cell_type": "code",
      "execution_count": null,
      "id": "f7393a81",
      "metadata": {
        "id": "f7393a81",
        "outputId": "42da2414-f4b4-45ff-dfbf-b712d9a14055",
        "colab": {
          "base_uri": "https://localhost:8080/",
          "height": 140
        }
      },
      "outputs": [
        {
          "output_type": "execute_result",
          "data": {
            "text/plain": [
              "'Testing update_parameters (DeepLearningSpecializationCoursera)'"
            ],
            "application/vnd.google.colaboratory.intrinsic+json": {
              "type": "string"
            }
          },
          "metadata": {},
          "execution_count": 20
        },
        {
          "output_type": "execute_result",
          "data": {
            "text/plain": [
              "array([[-0.59562069, -0.09991781, -2.14584584,  1.82662008],\n",
              "       [-1.76569676, -0.80627147,  0.51115557, -1.18258802],\n",
              "       [-1.0535704 , -0.86128581,  0.68284052,  2.20374577]])"
            ]
          },
          "metadata": {},
          "execution_count": 20
        },
        {
          "output_type": "execute_result",
          "data": {
            "text/plain": [
              "array([[-0.04659241],\n",
              "       [-1.28888275],\n",
              "       [ 0.53405496]])"
            ]
          },
          "metadata": {},
          "execution_count": 20
        },
        {
          "output_type": "execute_result",
          "data": {
            "text/plain": [
              "array([[-0.55569196,  0.0354055 ,  1.32964895]])"
            ]
          },
          "metadata": {},
          "execution_count": 20
        },
        {
          "output_type": "execute_result",
          "data": {
            "text/plain": [
              "array([[-0.84610769]])"
            ]
          },
          "metadata": {},
          "execution_count": 20
        }
      ],
      "source": [
        "'Testing update_parameters (DeepLearningSpecializationCoursera)'\n",
        "np.random.seed(2)\n",
        "parameters={}\n",
        "parameters['W1'] = np.random.randn(3,4)\n",
        "parameters['b1'] = np.random.randn(3,1)\n",
        "parameters['W2'] = np.random.randn(1,3)\n",
        "parameters['b2'] = np.random.randn(1,1)\n",
        "np.random.seed(3)\n",
        "grads={}\n",
        "grads['dW1'] = np.random.randn(3,4)\n",
        "grads['db1'] = np.random.randn(3,1)\n",
        "grads['dW2'] = np.random.randn(1,3)\n",
        "grads['db2'] = np.random.randn(1,1)\n",
        "\n",
        "parameters=update_parameters(parameters, grads, 0.1)\n",
        "parameters['W1']\n",
        "assert parameters['W1'].shape==(3,4), \"W1. Wrong size\"\n",
        "assert np.all(np.isclose(parameters['W1'], [[-0.59562069, -0.09991781, -2.14584584,  1.82662008],\n",
        "                                            [-1.76569676, -0.80627147,  0.51115557, -1.18258802],\n",
        "                                            [-1.0535704,  -0.86128581,  0.68284052,  2.20374577]])), \"W1. Wrong values\"\n",
        "parameters['b1']\n",
        "assert parameters['b1'].shape==(3,1), \"b1. Wrong size\"\n",
        "assert np.all(np.isclose(parameters['b1'],  [[-0.04659241],[-1.28888275],[ 0.53405496]])), \"b1. Wrong values\"\n",
        "parameters['W2']\n",
        "assert parameters['W2'].shape==(1,3), \"W2. Wrong size\"\n",
        "assert np.all(np.isclose(parameters['W2'], [[-0.55569196,  0.0354055,   1.32964895]])), \"W2. Wrong values\"\n",
        "parameters['b2']\n",
        "assert parameters['b2'].shape==(1,1), \"b2. Wrong size\"\n",
        "assert np.all(np.isclose(parameters['b2'], [[-0.84610769]])), \"b2. Wrong values\""
      ]
    },
    {
      "cell_type": "code",
      "execution_count": null,
      "id": "68c1dcac-0e3c-4210-8b83-55647b5eda1b",
      "metadata": {
        "id": "68c1dcac-0e3c-4210-8b83-55647b5eda1b"
      },
      "outputs": [],
      "source": [
        "def train(X,Y,layers,learning_rate,iterations,print_cost):\n",
        "    parameters = initialize_parameters(layers)\n",
        "    costs = []\n",
        "    for i in range(iterations):\n",
        "        Yp, caches = forward(X,parameters)\n",
        "        gradients = backward(Yp,Y,caches)\n",
        "        parameters = update_parameters(parameters,gradients,learning_rate)\n",
        "        if print_cost:\n",
        "            costs.append(cost(Yp,Y))\n",
        "    return parameters\n"
      ]
    },
    {
      "cell_type": "code",
      "execution_count": null,
      "id": "b64ded1b",
      "metadata": {
        "id": "b64ded1b",
        "outputId": "3da88e7e-fa89-4c68-c7bd-ae75e0f1a49d",
        "colab": {
          "base_uri": "https://localhost:8080/",
          "height": 53
        }
      },
      "outputs": [
        {
          "output_type": "execute_result",
          "data": {
            "text/plain": [
              "'Testing train'"
            ],
            "application/vnd.google.colaboratory.intrinsic+json": {
              "type": "string"
            }
          },
          "metadata": {},
          "execution_count": 22
        },
        {
          "output_type": "execute_result",
          "data": {
            "text/plain": [
              "array([[1., 1., 0., 0., 0., 0., 1., 1., 1., 0.]])"
            ]
          },
          "metadata": {},
          "execution_count": 22
        },
        {
          "output_type": "execute_result",
          "data": {
            "text/plain": [
              "array([[1, 1, 0, 0, 0, 0, 1, 1, 1, 0]])"
            ]
          },
          "metadata": {},
          "execution_count": 22
        }
      ],
      "source": [
        "'Testing train'\n",
        "np.random.seed(1)\n",
        "X=np.random.randn(2,10)\n",
        "Y=np.zeros((1,10))\n",
        "Y[0:]=(X[0,:]>X[1,:])\n",
        "Y\n",
        "parameters=train(X, Y, [2,1], 0.1, 100000, 10000)\n",
        "np.where(predict(X,parameters)> 0.6, 1, 0)\n",
        "assert np.all(np.isclose(np.where(predict(X,parameters)> 0.6, 1, 0), [[1, 1, 0, 0, 0, 0, 1, 1, 1, 0]])), \"Wrong values\""
      ]
    },
    {
      "cell_type": "markdown",
      "source": [
        "# Advertencia de train\n",
        "Subir el archivo de iris.data a archivos de colab\n"
      ],
      "metadata": {
        "id": "gR3jK7N__fTi"
      },
      "id": "gR3jK7N__fTi"
    },
    {
      "cell_type": "code",
      "source": [
        "data = '/content/iris.data'\n",
        "\n",
        "data_general = np.genfromtxt(data, delimiter=',', dtype=float, usecols=range(4))\n",
        "\n",
        "flowers = np.genfromtxt(data, delimiter=',', dtype=str, usecols=4)\n",
        "\n",
        "X = data_general[0:40]\n",
        "X = np.append(X, data_general[50:90], axis=0)\n",
        "X = np.append(X, data_general[100:140], axis=0)\n",
        "\n",
        "X = X.T\n",
        "\n",
        "Y = np.zeros((3, 120))\n",
        "Y[0, :40] = 1\n",
        "Y[1,40:90] = 1\n",
        "Y[2,100:140] = 1\n",
        "\n",
        "#parameters = train(X, Y, [4,1,2,1,3], 0.1, 300000, 90000)\n",
        "#parameters = train(X, Y, [4,4,3,1,3], 0.1, 300000, 50000)\n",
        "#parameters = train(X, Y, [4,3,2,3], 0.1, 300000, 50000)\n",
        "parameters = train(X, Y, [4,2,2,2,3], 0.1, 300000, 50000)\n",
        "#parameters = train(X, Y, [4,2,3,3], 0.1, 300000, 50000)\n",
        "#parameters = train(X, Y, [4,1,3], 0.1, 300000, 50000)\n",
        "parameters\n",
        "print(Y)"
      ],
      "metadata": {
        "colab": {
          "base_uri": "https://localhost:8080/"
        },
        "id": "F-_CH1tQxS6z",
        "outputId": "49ca6644-e0f5-40f8-e736-898e524beabe"
      },
      "id": "F-_CH1tQxS6z",
      "execution_count": null,
      "outputs": [
        {
          "output_type": "execute_result",
          "data": {
            "text/plain": [
              "{'W1': array([[ 0.00567263,  0.00174059, -0.01380008,  0.00145511],\n",
              "        [-0.03421392, -0.02410729, -0.06827127, -0.03345132]]),\n",
              " 'b1': array([[-6.19312720e-08],\n",
              "        [ 9.39834405e-04]]),\n",
              " 'W2': array([[-0.00239176,  0.06857654],\n",
              "        [ 0.01430218,  0.0622217 ]]),\n",
              " 'b2': array([[0.00073768],\n",
              "        [0.00026013]]),\n",
              " 'W3': array([[0.06544601, 0.04610668],\n",
              "        [0.05835187, 0.05499619]]),\n",
              " 'b3': array([[0.08210015],\n",
              "        [0.07949069]]),\n",
              " 'W4': array([[-0.20554004, -0.19035566],\n",
              "        [-0.12219114, -0.12364328],\n",
              "        [-0.53882279, -0.53425445]]),\n",
              " 'b4': array([[-0.48155952],\n",
              "        [-0.20511064],\n",
              "        [-1.03601603]])}"
            ]
          },
          "metadata": {},
          "execution_count": 34
        },
        {
          "output_type": "stream",
          "name": "stdout",
          "text": [
            "[[1. 1. 1. 1. 1. 1. 1. 1. 1. 1. 1. 1. 1. 1. 1. 1. 1. 1. 1. 1. 1. 1. 1. 1.\n",
            "  1. 1. 1. 1. 1. 1. 1. 1. 1. 1. 1. 1. 1. 1. 1. 1. 0. 0. 0. 0. 0. 0. 0. 0.\n",
            "  0. 0. 0. 0. 0. 0. 0. 0. 0. 0. 0. 0. 0. 0. 0. 0. 0. 0. 0. 0. 0. 0. 0. 0.\n",
            "  0. 0. 0. 0. 0. 0. 0. 0. 0. 0. 0. 0. 0. 0. 0. 0. 0. 0. 0. 0. 0. 0. 0. 0.\n",
            "  0. 0. 0. 0. 0. 0. 0. 0. 0. 0. 0. 0. 0. 0. 0. 0. 0. 0. 0. 0. 0. 0. 0. 0.]\n",
            " [0. 0. 0. 0. 0. 0. 0. 0. 0. 0. 0. 0. 0. 0. 0. 0. 0. 0. 0. 0. 0. 0. 0. 0.\n",
            "  0. 0. 0. 0. 0. 0. 0. 0. 0. 0. 0. 0. 0. 0. 0. 0. 1. 1. 1. 1. 1. 1. 1. 1.\n",
            "  1. 1. 1. 1. 1. 1. 1. 1. 1. 1. 1. 1. 1. 1. 1. 1. 1. 1. 1. 1. 1. 1. 1. 1.\n",
            "  1. 1. 1. 1. 1. 1. 1. 1. 1. 1. 1. 1. 1. 1. 1. 1. 1. 1. 0. 0. 0. 0. 0. 0.\n",
            "  0. 0. 0. 0. 0. 0. 0. 0. 0. 0. 0. 0. 0. 0. 0. 0. 0. 0. 0. 0. 0. 0. 0. 0.]\n",
            " [0. 0. 0. 0. 0. 0. 0. 0. 0. 0. 0. 0. 0. 0. 0. 0. 0. 0. 0. 0. 0. 0. 0. 0.\n",
            "  0. 0. 0. 0. 0. 0. 0. 0. 0. 0. 0. 0. 0. 0. 0. 0. 0. 0. 0. 0. 0. 0. 0. 0.\n",
            "  0. 0. 0. 0. 0. 0. 0. 0. 0. 0. 0. 0. 0. 0. 0. 0. 0. 0. 0. 0. 0. 0. 0. 0.\n",
            "  0. 0. 0. 0. 0. 0. 0. 0. 0. 0. 0. 0. 0. 0. 0. 0. 0. 0. 0. 0. 0. 0. 0. 0.\n",
            "  0. 0. 0. 0. 1. 1. 1. 1. 1. 1. 1. 1. 1. 1. 1. 1. 1. 1. 1. 1. 1. 1. 1. 1.]]\n"
          ]
        }
      ]
    },
    {
      "cell_type": "code",
      "source": [
        "#test = data_general[120:151]\n",
        "#test = test.T\n",
        "\n",
        "#diferent = 1e-03\n",
        "#result = np.where(diferent < predict(test, parameters), 1, 0)\n",
        "\n",
        "data_general = np.genfromtxt(data, delimiter=',', dtype=float, usecols=range(4))\n",
        "\n",
        "X = data_general[40:50]\n",
        "X = np.append(X, data_general[90:100], axis=0)\n",
        "X = np.append(X, data_general[140:150], axis=0)\n",
        "\n",
        "\n",
        "X = X.T\n",
        "\n",
        "Y = np.zeros((3, 30))\n",
        "Y[0,:10] = 1\n",
        "Y[1,10:20] = 1\n",
        "Y[2,20:30] = 1\n",
        "\n",
        "result = accuracy (X,Y,parameters)\n",
        "\n",
        "print (X)\n",
        "print (Y)\n",
        "print(predict(X,parameters))\n",
        "print(result)"
      ],
      "metadata": {
        "colab": {
          "base_uri": "https://localhost:8080/"
        },
        "id": "3vKhJ8qx8Wk_",
        "outputId": "2bef0dc9-722d-42d0-ef25-c5966090668a"
      },
      "id": "3vKhJ8qx8Wk_",
      "execution_count": null,
      "outputs": [
        {
          "output_type": "stream",
          "name": "stdout",
          "text": [
            "[[5.  4.5 4.4 5.  5.1 4.8 5.1 4.6 5.3 5.  5.5 6.1 5.8 5.  5.6 5.7 5.7 6.2\n",
            "  5.1 5.7 6.7 6.9 5.8 6.8 6.7 6.7 6.3 6.5 6.2 5.9]\n",
            " [3.5 2.3 3.2 3.5 3.8 3.  3.8 3.2 3.7 3.3 2.6 3.  2.6 2.3 2.7 3.  2.9 2.9\n",
            "  2.5 2.8 3.1 3.1 2.7 3.2 3.3 3.  2.5 3.  3.4 3. ]\n",
            " [1.3 1.3 1.3 1.6 1.9 1.4 1.6 1.4 1.5 1.4 4.4 4.6 4.  3.3 4.2 4.2 4.2 4.3\n",
            "  3.  4.1 5.6 5.1 5.1 5.9 5.7 5.2 5.  5.2 5.4 5.1]\n",
            " [0.3 0.3 0.2 0.6 0.4 0.3 0.2 0.2 0.2 0.2 1.2 1.4 1.2 1.  1.3 1.2 1.3 1.3\n",
            "  1.1 1.3 2.4 2.3 1.9 2.3 2.5 2.3 1.9 2.  2.3 1.8]]\n",
            "[[1. 1. 1. 1. 1. 1. 1. 1. 1. 1. 0. 0. 0. 0. 0. 0. 0. 0. 0. 0. 0. 0. 0. 0.\n",
            "  0. 0. 0. 0. 0. 0.]\n",
            " [0. 0. 0. 0. 0. 0. 0. 0. 0. 0. 1. 1. 1. 1. 1. 1. 1. 1. 1. 1. 0. 0. 0. 0.\n",
            "  0. 0. 0. 0. 0. 0.]\n",
            " [0. 0. 0. 0. 0. 0. 0. 0. 0. 0. 0. 0. 0. 0. 0. 0. 0. 0. 0. 0. 1. 1. 1. 1.\n",
            "  1. 1. 1. 1. 1. 1.]]\n",
            "[[0.33333615 0.3333357  0.33333585 0.33333645 0.33333669 0.33333603\n",
            "  0.33333642 0.33333598 0.3333364  0.33333614 0.33333845 0.33333891\n",
            "  0.33333828 0.33333744 0.3333384  0.33333847 0.33333848 0.3333387\n",
            "  0.33333735 0.33333839 0.33334003 0.33333976 0.33333922 0.33334024\n",
            "  0.33334016 0.33333974 0.33333927 0.33333959 0.3333398  0.33333928]\n",
            " [0.41666297 0.41666267 0.41666276 0.41666317 0.41666334 0.41666289\n",
            "  0.41666316 0.41666286 0.41666314 0.41666296 0.41666453 0.41666485\n",
            "  0.41666442 0.41666385 0.4166645  0.41666455 0.41666455 0.4166647\n",
            "  0.41666379 0.41666449 0.41666561 0.41666542 0.41666506 0.41666575\n",
            "  0.4166657  0.41666541 0.41666509 0.41666531 0.41666545 0.4166651 ]\n",
            " [0.16666035 0.16665959 0.16665984 0.16666086 0.16666127 0.16666015\n",
            "  0.16666081 0.16666006 0.16666077 0.16666033 0.16666424 0.16666503\n",
            "  0.16666396 0.16666253 0.16666417 0.16666428 0.16666429 0.16666467\n",
            "  0.16666238 0.16666415 0.16666693 0.16666646 0.16666555 0.16666727\n",
            "  0.16666715 0.16666643 0.16666563 0.16666618 0.16666653 0.16666566]]\n",
            "0.6666666666666666\n"
          ]
        }
      ]
    },
    {
      "cell_type": "markdown",
      "id": "7bd9ebdc-0f95-4cba-bae6-06abfd802e15",
      "metadata": {
        "id": "7bd9ebdc-0f95-4cba-bae6-06abfd802e15"
      },
      "source": [
        "# Retrospectiva"
      ]
    },
    {
      "cell_type": "markdown",
      "id": "e2d5af14-5af2-47db-a392-690422a330cf",
      "metadata": {
        "id": "e2d5af14-5af2-47db-a392-690422a330cf"
      },
      "source": [
        "1.¿ Cuál fue el tiempo total invertido en el laboratorio por cada uno de ustedes?\n",
        "    Castaño/9; Mesa/8\n",
        "2. ¿Cuál es el estado actual del laboratorio? ¿Por qué?\n",
        "En estos momentos, lo único que falto del laboratorio fue colocar las derivadas de las formulas usadas  ya que, al momento de enredarnos haciendo la función backward, entregamos el laboratorio sobre el tiempo.\n",
        "3. ¿Cuál consideran fue el mayor logro? ¿Por qué?\n",
        "Poder realizar todas las funciones debido a que en cierto punto fue dificil pasar las formulas a codigo.\n",
        "4. ¿Cuál fue el mayor problema tecnico?\n",
        "Realizar la función b"
      ]
    }
  ],
  "metadata": {
    "colab": {
      "provenance": []
    },
    "kernelspec": {
      "display_name": "Python 3 (ipykernel)",
      "language": "python",
      "name": "python3"
    },
    "language_info": {
      "codemirror_mode": {
        "name": "ipython",
        "version": 3
      },
      "file_extension": ".py",
      "mimetype": "text/x-python",
      "name": "python",
      "nbconvert_exporter": "python",
      "pygments_lexer": "ipython3",
      "version": "3.11.5"
    }
  },
  "nbformat": 4,
  "nbformat_minor": 5
}